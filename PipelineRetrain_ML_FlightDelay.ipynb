{
 "cells": [
  {
   "cell_type": "code",
   "execution_count": 1,
   "id": "91a9019d-f6f3-4e09-9463-df9e824a72cc",
   "metadata": {},
   "outputs": [
    {
     "name": "stdout",
     "output_type": "stream",
     "text": [
      "Requirement already satisfied: category_encoders in /opt/conda/lib/python3.7/site-packages (2.4.0)\n",
      "Requirement already satisfied: statsmodels>=0.9.0 in /opt/conda/lib/python3.7/site-packages (from category_encoders) (0.13.2)\n",
      "Requirement already satisfied: scikit-learn>=0.20.0 in /opt/conda/lib/python3.7/site-packages (from category_encoders) (1.0.2)\n",
      "Requirement already satisfied: pandas>=0.21.1 in /opt/conda/lib/python3.7/site-packages (from category_encoders) (1.3.5)\n",
      "Requirement already satisfied: patsy>=0.5.1 in /opt/conda/lib/python3.7/site-packages (from category_encoders) (0.5.2)\n",
      "Requirement already satisfied: numpy>=1.14.0 in /opt/conda/lib/python3.7/site-packages (from category_encoders) (1.19.5)\n",
      "Requirement already satisfied: scipy>=1.0.0 in /opt/conda/lib/python3.7/site-packages (from category_encoders) (1.7.3)\n",
      "Requirement already satisfied: python-dateutil>=2.7.3 in /opt/conda/lib/python3.7/site-packages (from pandas>=0.21.1->category_encoders) (2.8.2)\n",
      "Requirement already satisfied: pytz>=2017.3 in /opt/conda/lib/python3.7/site-packages (from pandas>=0.21.1->category_encoders) (2021.3)\n",
      "Requirement already satisfied: six in /opt/conda/lib/python3.7/site-packages (from patsy>=0.5.1->category_encoders) (1.16.0)\n",
      "Requirement already satisfied: joblib>=0.11 in /opt/conda/lib/python3.7/site-packages (from scikit-learn>=0.20.0->category_encoders) (1.1.0)\n",
      "Requirement already satisfied: threadpoolctl>=2.0.0 in /opt/conda/lib/python3.7/site-packages (from scikit-learn>=0.20.0->category_encoders) (3.1.0)\n",
      "Requirement already satisfied: packaging>=21.3 in /opt/conda/lib/python3.7/site-packages (from statsmodels>=0.9.0->category_encoders) (21.3)\n",
      "Requirement already satisfied: pyparsing!=3.0.5,>=2.0.2 in /opt/conda/lib/python3.7/site-packages (from packaging>=21.3->statsmodels>=0.9.0->category_encoders) (3.0.7)\n"
     ]
    }
   ],
   "source": [
    "!pip install category_encoders"
   ]
  },
  {
   "cell_type": "markdown",
   "id": "a7eda383-a3c7-4429-8181-71434de6648e",
   "metadata": {},
   "source": [
    "# Importing the libraries"
   ]
  },
  {
   "cell_type": "code",
   "execution_count": 2,
   "id": "90d91078-e0da-4d1b-8fcb-ef026a3ba53c",
   "metadata": {},
   "outputs": [],
   "source": [
    "import matplotlib.pyplot as plt\n",
    "import seaborn as sns\n",
    "import pandas as pd\n",
    "import numpy as np\n",
    "import warnings   \n",
    "warnings.filterwarnings(\"ignore\")\n",
    "import category_encoders as ce"
   ]
  },
  {
   "cell_type": "markdown",
   "id": "886225ca-ace9-43f6-ac4b-4b3c5579df2f",
   "metadata": {},
   "source": [
    "# Importing the dataset from GCS & Prepare Train Data"
   ]
  },
  {
   "cell_type": "code",
   "execution_count": 3,
   "id": "a42aae82-8d93-47e4-a8fe-aa0996ccf385",
   "metadata": {},
   "outputs": [],
   "source": [
    "df_raw = pd.read_csv('gs://pak/Model_Retrain/FlightsAndWeather.csv')\n",
    "df_airport = pd.read_csv('gs://pak/Original CSV/AirportCodeLocationLookupClean.csv')"
   ]
  },
  {
   "cell_type": "code",
   "execution_count": 4,
   "id": "d40671af-ddbb-44da-880e-b833b7b4a891",
   "metadata": {},
   "outputs": [
    {
     "data": {
      "text/plain": [
       "(120467, 11)"
      ]
     },
     "execution_count": 4,
     "metadata": {},
     "output_type": "execute_result"
    }
   ],
   "source": [
    "df_raw.shape"
   ]
  },
  {
   "cell_type": "code",
   "execution_count": 5,
   "id": "1081a2bd-2c3e-4289-a64c-7c3b52f7b322",
   "metadata": {},
   "outputs": [
    {
     "data": {
      "text/plain": [
       "(6172, 5)"
      ]
     },
     "execution_count": 5,
     "metadata": {},
     "output_type": "execute_result"
    }
   ],
   "source": [
    "df_airport.shape"
   ]
  },
  {
   "cell_type": "code",
   "execution_count": 6,
   "id": "f007e7dd-22eb-4830-b897-5d72c2d45497",
   "metadata": {},
   "outputs": [
    {
     "name": "stdout",
     "output_type": "stream",
     "text": [
      "<class 'pandas.core.frame.DataFrame'>\n",
      "RangeIndex: 120467 entries, 0 to 120466\n",
      "Data columns (total 11 columns):\n",
      " #   Column             Non-Null Count   Dtype \n",
      "---  ------             --------------   ----- \n",
      " 0   OriginAirportCode  120467 non-null  object\n",
      " 1   Month              120467 non-null  int64 \n",
      " 2   DayofMonth         120467 non-null  int64 \n",
      " 3   CRSDepHour         120467 non-null  int64 \n",
      " 4   DayOfWeek          120467 non-null  int64 \n",
      " 5   Carrier            120467 non-null  object\n",
      " 6   DestAirportCode    120467 non-null  object\n",
      " 7   DepDel15           120467 non-null  int64 \n",
      " 8   WindSpeed          120467 non-null  int64 \n",
      " 9   SeaLevelPressure   120467 non-null  int64 \n",
      " 10  HourlyPrecip       120467 non-null  int64 \n",
      "dtypes: int64(8), object(3)\n",
      "memory usage: 10.1+ MB\n"
     ]
    }
   ],
   "source": [
    "df_raw.info()"
   ]
  },
  {
   "cell_type": "code",
   "execution_count": 7,
   "id": "a95ad226-7fe4-4d9c-b01a-35d881cabfe0",
   "metadata": {},
   "outputs": [
    {
     "name": "stdout",
     "output_type": "stream",
     "text": [
      "<class 'pandas.core.frame.DataFrame'>\n",
      "RangeIndex: 6172 entries, 0 to 6171\n",
      "Data columns (total 5 columns):\n",
      " #   Column                Non-Null Count  Dtype  \n",
      "---  ------                --------------  -----  \n",
      " 0   AIRPORT_ID            6172 non-null   int64  \n",
      " 1   AIRPORT               6172 non-null   object \n",
      " 2   DISPLAY_AIRPORT_NAME  6172 non-null   object \n",
      " 3   LATITUDE              6171 non-null   float64\n",
      " 4   LONGITUDE             6171 non-null   float64\n",
      "dtypes: float64(2), int64(1), object(2)\n",
      "memory usage: 241.2+ KB\n"
     ]
    }
   ],
   "source": [
    "df_airport.info()"
   ]
  },
  {
   "cell_type": "code",
   "execution_count": 8,
   "id": "1e044f16-b298-422e-ace2-2441076479bc",
   "metadata": {},
   "outputs": [
    {
     "data": {
      "text/html": [
       "<div>\n",
       "<style scoped>\n",
       "    .dataframe tbody tr th:only-of-type {\n",
       "        vertical-align: middle;\n",
       "    }\n",
       "\n",
       "    .dataframe tbody tr th {\n",
       "        vertical-align: top;\n",
       "    }\n",
       "\n",
       "    .dataframe thead th {\n",
       "        text-align: right;\n",
       "    }\n",
       "</style>\n",
       "<table border=\"1\" class=\"dataframe\">\n",
       "  <thead>\n",
       "    <tr style=\"text-align: right;\">\n",
       "      <th></th>\n",
       "      <th>OriginAirportCode</th>\n",
       "      <th>Month</th>\n",
       "      <th>DayofMonth</th>\n",
       "      <th>CRSDepHour</th>\n",
       "      <th>DayOfWeek</th>\n",
       "      <th>Carrier</th>\n",
       "      <th>DestAirportCode</th>\n",
       "      <th>DepDel15</th>\n",
       "      <th>WindSpeed</th>\n",
       "      <th>SeaLevelPressure</th>\n",
       "      <th>HourlyPrecip</th>\n",
       "      <th>AIRPORT_ID</th>\n",
       "      <th>AIRPORT</th>\n",
       "      <th>DISPLAY_AIRPORT_NAME</th>\n",
       "      <th>LATITUDE</th>\n",
       "      <th>LONGITUDE</th>\n",
       "    </tr>\n",
       "  </thead>\n",
       "  <tbody>\n",
       "    <tr>\n",
       "      <th>0</th>\n",
       "      <td>ORD</td>\n",
       "      <td>3</td>\n",
       "      <td>9</td>\n",
       "      <td>9</td>\n",
       "      <td>3</td>\n",
       "      <td>UA</td>\n",
       "      <td>LAS</td>\n",
       "      <td>0</td>\n",
       "      <td>5</td>\n",
       "      <td>30</td>\n",
       "      <td>0</td>\n",
       "      <td>13930</td>\n",
       "      <td>ORD</td>\n",
       "      <td>Chicago O'Hare International</td>\n",
       "      <td>41.979444</td>\n",
       "      <td>-87.9075</td>\n",
       "    </tr>\n",
       "    <tr>\n",
       "      <th>1</th>\n",
       "      <td>ORD</td>\n",
       "      <td>3</td>\n",
       "      <td>5</td>\n",
       "      <td>10</td>\n",
       "      <td>6</td>\n",
       "      <td>YV</td>\n",
       "      <td>JAX</td>\n",
       "      <td>0</td>\n",
       "      <td>7</td>\n",
       "      <td>29</td>\n",
       "      <td>0</td>\n",
       "      <td>13930</td>\n",
       "      <td>ORD</td>\n",
       "      <td>Chicago O'Hare International</td>\n",
       "      <td>41.979444</td>\n",
       "      <td>-87.9075</td>\n",
       "    </tr>\n",
       "    <tr>\n",
       "      <th>2</th>\n",
       "      <td>ORD</td>\n",
       "      <td>3</td>\n",
       "      <td>1</td>\n",
       "      <td>7</td>\n",
       "      <td>2</td>\n",
       "      <td>UA</td>\n",
       "      <td>DCA</td>\n",
       "      <td>0</td>\n",
       "      <td>15</td>\n",
       "      <td>29</td>\n",
       "      <td>0</td>\n",
       "      <td>13930</td>\n",
       "      <td>ORD</td>\n",
       "      <td>Chicago O'Hare International</td>\n",
       "      <td>41.979444</td>\n",
       "      <td>-87.9075</td>\n",
       "    </tr>\n",
       "    <tr>\n",
       "      <th>3</th>\n",
       "      <td>ORD</td>\n",
       "      <td>3</td>\n",
       "      <td>29</td>\n",
       "      <td>7</td>\n",
       "      <td>2</td>\n",
       "      <td>AA</td>\n",
       "      <td>AUS</td>\n",
       "      <td>0</td>\n",
       "      <td>13</td>\n",
       "      <td>30</td>\n",
       "      <td>0</td>\n",
       "      <td>13930</td>\n",
       "      <td>ORD</td>\n",
       "      <td>Chicago O'Hare International</td>\n",
       "      <td>41.979444</td>\n",
       "      <td>-87.9075</td>\n",
       "    </tr>\n",
       "    <tr>\n",
       "      <th>4</th>\n",
       "      <td>ORD</td>\n",
       "      <td>3</td>\n",
       "      <td>10</td>\n",
       "      <td>21</td>\n",
       "      <td>4</td>\n",
       "      <td>MQ</td>\n",
       "      <td>DTW</td>\n",
       "      <td>0</td>\n",
       "      <td>6</td>\n",
       "      <td>30</td>\n",
       "      <td>0</td>\n",
       "      <td>13930</td>\n",
       "      <td>ORD</td>\n",
       "      <td>Chicago O'Hare International</td>\n",
       "      <td>41.979444</td>\n",
       "      <td>-87.9075</td>\n",
       "    </tr>\n",
       "  </tbody>\n",
       "</table>\n",
       "</div>"
      ],
      "text/plain": [
       "  OriginAirportCode  Month  DayofMonth  CRSDepHour  DayOfWeek Carrier  \\\n",
       "0               ORD      3           9           9          3      UA   \n",
       "1               ORD      3           5          10          6      YV   \n",
       "2               ORD      3           1           7          2      UA   \n",
       "3               ORD      3          29           7          2      AA   \n",
       "4               ORD      3          10          21          4      MQ   \n",
       "\n",
       "  DestAirportCode  DepDel15  WindSpeed  SeaLevelPressure  HourlyPrecip  \\\n",
       "0             LAS         0          5                30             0   \n",
       "1             JAX         0          7                29             0   \n",
       "2             DCA         0         15                29             0   \n",
       "3             AUS         0         13                30             0   \n",
       "4             DTW         0          6                30             0   \n",
       "\n",
       "   AIRPORT_ID AIRPORT          DISPLAY_AIRPORT_NAME   LATITUDE  LONGITUDE  \n",
       "0       13930     ORD  Chicago O'Hare International  41.979444   -87.9075  \n",
       "1       13930     ORD  Chicago O'Hare International  41.979444   -87.9075  \n",
       "2       13930     ORD  Chicago O'Hare International  41.979444   -87.9075  \n",
       "3       13930     ORD  Chicago O'Hare International  41.979444   -87.9075  \n",
       "4       13930     ORD  Chicago O'Hare International  41.979444   -87.9075  "
      ]
     },
     "execution_count": 8,
     "metadata": {},
     "output_type": "execute_result"
    }
   ],
   "source": [
    "new_df1 = pd.merge(df_raw,df_airport,how='inner',left_on='OriginAirportCode',right_on='AIRPORT')\n",
    "new_df1.head()"
   ]
  },
  {
   "cell_type": "code",
   "execution_count": 9,
   "id": "db06996f-dd61-4ddd-b5fd-68c9ada4a64e",
   "metadata": {},
   "outputs": [
    {
     "data": {
      "text/html": [
       "<div>\n",
       "<style scoped>\n",
       "    .dataframe tbody tr th:only-of-type {\n",
       "        vertical-align: middle;\n",
       "    }\n",
       "\n",
       "    .dataframe tbody tr th {\n",
       "        vertical-align: top;\n",
       "    }\n",
       "\n",
       "    .dataframe thead th {\n",
       "        text-align: right;\n",
       "    }\n",
       "</style>\n",
       "<table border=\"1\" class=\"dataframe\">\n",
       "  <thead>\n",
       "    <tr style=\"text-align: right;\">\n",
       "      <th></th>\n",
       "      <th>OriginAirportCode</th>\n",
       "      <th>Month</th>\n",
       "      <th>DayofMonth</th>\n",
       "      <th>CRSDepHour</th>\n",
       "      <th>DayOfWeek</th>\n",
       "      <th>Carrier</th>\n",
       "      <th>DestAirportCode</th>\n",
       "      <th>DepDel15</th>\n",
       "      <th>WindSpeed</th>\n",
       "      <th>SeaLevelPressure</th>\n",
       "      <th>HourlyPrecip</th>\n",
       "      <th>OriginLatitude</th>\n",
       "      <th>OriginLongitude</th>\n",
       "      <th>DestinationLatitude</th>\n",
       "      <th>DestinationLongitude</th>\n",
       "    </tr>\n",
       "  </thead>\n",
       "  <tbody>\n",
       "    <tr>\n",
       "      <th>0</th>\n",
       "      <td>ORD</td>\n",
       "      <td>3</td>\n",
       "      <td>9</td>\n",
       "      <td>9</td>\n",
       "      <td>3</td>\n",
       "      <td>UA</td>\n",
       "      <td>LAS</td>\n",
       "      <td>0</td>\n",
       "      <td>5</td>\n",
       "      <td>30</td>\n",
       "      <td>0</td>\n",
       "      <td>41.979444</td>\n",
       "      <td>-87.9075</td>\n",
       "      <td>36.08</td>\n",
       "      <td>-115.152222</td>\n",
       "    </tr>\n",
       "    <tr>\n",
       "      <th>1</th>\n",
       "      <td>ORD</td>\n",
       "      <td>3</td>\n",
       "      <td>30</td>\n",
       "      <td>18</td>\n",
       "      <td>3</td>\n",
       "      <td>UA</td>\n",
       "      <td>LAS</td>\n",
       "      <td>0</td>\n",
       "      <td>5</td>\n",
       "      <td>29</td>\n",
       "      <td>0</td>\n",
       "      <td>41.979444</td>\n",
       "      <td>-87.9075</td>\n",
       "      <td>36.08</td>\n",
       "      <td>-115.152222</td>\n",
       "    </tr>\n",
       "    <tr>\n",
       "      <th>2</th>\n",
       "      <td>ORD</td>\n",
       "      <td>3</td>\n",
       "      <td>30</td>\n",
       "      <td>20</td>\n",
       "      <td>3</td>\n",
       "      <td>UA</td>\n",
       "      <td>LAS</td>\n",
       "      <td>1</td>\n",
       "      <td>6</td>\n",
       "      <td>29</td>\n",
       "      <td>0</td>\n",
       "      <td>41.979444</td>\n",
       "      <td>-87.9075</td>\n",
       "      <td>36.08</td>\n",
       "      <td>-115.152222</td>\n",
       "    </tr>\n",
       "    <tr>\n",
       "      <th>3</th>\n",
       "      <td>ORD</td>\n",
       "      <td>3</td>\n",
       "      <td>5</td>\n",
       "      <td>15</td>\n",
       "      <td>6</td>\n",
       "      <td>UA</td>\n",
       "      <td>LAS</td>\n",
       "      <td>1</td>\n",
       "      <td>10</td>\n",
       "      <td>29</td>\n",
       "      <td>0</td>\n",
       "      <td>41.979444</td>\n",
       "      <td>-87.9075</td>\n",
       "      <td>36.08</td>\n",
       "      <td>-115.152222</td>\n",
       "    </tr>\n",
       "    <tr>\n",
       "      <th>4</th>\n",
       "      <td>ORD</td>\n",
       "      <td>3</td>\n",
       "      <td>23</td>\n",
       "      <td>12</td>\n",
       "      <td>3</td>\n",
       "      <td>UA</td>\n",
       "      <td>LAS</td>\n",
       "      <td>0</td>\n",
       "      <td>10</td>\n",
       "      <td>29</td>\n",
       "      <td>0</td>\n",
       "      <td>41.979444</td>\n",
       "      <td>-87.9075</td>\n",
       "      <td>36.08</td>\n",
       "      <td>-115.152222</td>\n",
       "    </tr>\n",
       "  </tbody>\n",
       "</table>\n",
       "</div>"
      ],
      "text/plain": [
       "  OriginAirportCode  Month  DayofMonth  CRSDepHour  DayOfWeek Carrier  \\\n",
       "0               ORD      3           9           9          3      UA   \n",
       "1               ORD      3          30          18          3      UA   \n",
       "2               ORD      3          30          20          3      UA   \n",
       "3               ORD      3           5          15          6      UA   \n",
       "4               ORD      3          23          12          3      UA   \n",
       "\n",
       "  DestAirportCode  DepDel15  WindSpeed  SeaLevelPressure  HourlyPrecip  \\\n",
       "0             LAS         0          5                30             0   \n",
       "1             LAS         0          5                29             0   \n",
       "2             LAS         1          6                29             0   \n",
       "3             LAS         1         10                29             0   \n",
       "4             LAS         0         10                29             0   \n",
       "\n",
       "   OriginLatitude  OriginLongitude  DestinationLatitude  DestinationLongitude  \n",
       "0       41.979444         -87.9075                36.08           -115.152222  \n",
       "1       41.979444         -87.9075                36.08           -115.152222  \n",
       "2       41.979444         -87.9075                36.08           -115.152222  \n",
       "3       41.979444         -87.9075                36.08           -115.152222  \n",
       "4       41.979444         -87.9075                36.08           -115.152222  "
      ]
     },
     "execution_count": 9,
     "metadata": {},
     "output_type": "execute_result"
    }
   ],
   "source": [
    "new_df1 = new_df1.drop(['AIRPORT','AIRPORT_ID','DISPLAY_AIRPORT_NAME'], axis=1)\n",
    "new_df1.rename({'LATITUDE':'OriginLatitude','LONGITUDE':'OriginLongitude'}, axis=1, inplace=True)\n",
    "new_df = pd.merge(new_df1,df_airport,how='inner',left_on='DestAirportCode',right_on='AIRPORT')\n",
    "new_df = new_df.drop(['AIRPORT','AIRPORT_ID','DISPLAY_AIRPORT_NAME'], axis=1)\n",
    "new_df.rename({'LATITUDE':'DestinationLatitude','LONGITUDE':'DestinationLongitude'},axis=1,inplace=True)\n",
    "new_df.head()"
   ]
  },
  {
   "cell_type": "code",
   "execution_count": 10,
   "id": "0200833f-b51a-4d66-85bd-06e76d36a32e",
   "metadata": {},
   "outputs": [
    {
     "name": "stdout",
     "output_type": "stream",
     "text": [
      "<class 'pandas.core.frame.DataFrame'>\n",
      "Int64Index: 120467 entries, 0 to 120466\n",
      "Data columns (total 15 columns):\n",
      " #   Column                Non-Null Count   Dtype  \n",
      "---  ------                --------------   -----  \n",
      " 0   OriginAirportCode     120467 non-null  object \n",
      " 1   Month                 120467 non-null  int64  \n",
      " 2   DayofMonth            120467 non-null  int64  \n",
      " 3   CRSDepHour            120467 non-null  int64  \n",
      " 4   DayOfWeek             120467 non-null  int64  \n",
      " 5   Carrier               120467 non-null  object \n",
      " 6   DestAirportCode       120467 non-null  object \n",
      " 7   DepDel15              120467 non-null  int64  \n",
      " 8   WindSpeed             120467 non-null  int64  \n",
      " 9   SeaLevelPressure      120467 non-null  int64  \n",
      " 10  HourlyPrecip          120467 non-null  int64  \n",
      " 11  OriginLatitude        120467 non-null  float64\n",
      " 12  OriginLongitude       120467 non-null  float64\n",
      " 13  DestinationLatitude   120467 non-null  float64\n",
      " 14  DestinationLongitude  120467 non-null  float64\n",
      "dtypes: float64(4), int64(8), object(3)\n",
      "memory usage: 14.7+ MB\n"
     ]
    }
   ],
   "source": [
    "new_df.info()"
   ]
  },
  {
   "cell_type": "code",
   "execution_count": 11,
   "id": "7bcbb639-7f7e-4eb1-bbcb-0e771be6b9d4",
   "metadata": {},
   "outputs": [
    {
     "data": {
      "text/html": [
       "<div>\n",
       "<style scoped>\n",
       "    .dataframe tbody tr th:only-of-type {\n",
       "        vertical-align: middle;\n",
       "    }\n",
       "\n",
       "    .dataframe tbody tr th {\n",
       "        vertical-align: top;\n",
       "    }\n",
       "\n",
       "    .dataframe thead th {\n",
       "        text-align: right;\n",
       "    }\n",
       "</style>\n",
       "<table border=\"1\" class=\"dataframe\">\n",
       "  <thead>\n",
       "    <tr style=\"text-align: right;\">\n",
       "      <th></th>\n",
       "      <th>OriginLatitude</th>\n",
       "      <th>OriginLongitude</th>\n",
       "      <th>Month</th>\n",
       "      <th>Carrier</th>\n",
       "      <th>DepDel15</th>\n",
       "      <th>DayofMonth</th>\n",
       "      <th>DayOfWeek</th>\n",
       "      <th>CRSDepHour</th>\n",
       "      <th>DestinationLatitude</th>\n",
       "      <th>DestinationLongitude</th>\n",
       "      <th>WindSpeed</th>\n",
       "      <th>SeaLevelPressure</th>\n",
       "      <th>HourlyPrecip</th>\n",
       "    </tr>\n",
       "  </thead>\n",
       "  <tbody>\n",
       "    <tr>\n",
       "      <th>0</th>\n",
       "      <td>41.979444</td>\n",
       "      <td>-87.9075</td>\n",
       "      <td>3</td>\n",
       "      <td>UA</td>\n",
       "      <td>0</td>\n",
       "      <td>9</td>\n",
       "      <td>3</td>\n",
       "      <td>9</td>\n",
       "      <td>36.08</td>\n",
       "      <td>-115.152222</td>\n",
       "      <td>5</td>\n",
       "      <td>30</td>\n",
       "      <td>0</td>\n",
       "    </tr>\n",
       "    <tr>\n",
       "      <th>1</th>\n",
       "      <td>41.979444</td>\n",
       "      <td>-87.9075</td>\n",
       "      <td>3</td>\n",
       "      <td>UA</td>\n",
       "      <td>0</td>\n",
       "      <td>30</td>\n",
       "      <td>3</td>\n",
       "      <td>18</td>\n",
       "      <td>36.08</td>\n",
       "      <td>-115.152222</td>\n",
       "      <td>5</td>\n",
       "      <td>29</td>\n",
       "      <td>0</td>\n",
       "    </tr>\n",
       "    <tr>\n",
       "      <th>2</th>\n",
       "      <td>41.979444</td>\n",
       "      <td>-87.9075</td>\n",
       "      <td>3</td>\n",
       "      <td>UA</td>\n",
       "      <td>1</td>\n",
       "      <td>30</td>\n",
       "      <td>3</td>\n",
       "      <td>20</td>\n",
       "      <td>36.08</td>\n",
       "      <td>-115.152222</td>\n",
       "      <td>6</td>\n",
       "      <td>29</td>\n",
       "      <td>0</td>\n",
       "    </tr>\n",
       "    <tr>\n",
       "      <th>3</th>\n",
       "      <td>41.979444</td>\n",
       "      <td>-87.9075</td>\n",
       "      <td>3</td>\n",
       "      <td>UA</td>\n",
       "      <td>1</td>\n",
       "      <td>5</td>\n",
       "      <td>6</td>\n",
       "      <td>15</td>\n",
       "      <td>36.08</td>\n",
       "      <td>-115.152222</td>\n",
       "      <td>10</td>\n",
       "      <td>29</td>\n",
       "      <td>0</td>\n",
       "    </tr>\n",
       "    <tr>\n",
       "      <th>4</th>\n",
       "      <td>41.979444</td>\n",
       "      <td>-87.9075</td>\n",
       "      <td>3</td>\n",
       "      <td>UA</td>\n",
       "      <td>0</td>\n",
       "      <td>23</td>\n",
       "      <td>3</td>\n",
       "      <td>12</td>\n",
       "      <td>36.08</td>\n",
       "      <td>-115.152222</td>\n",
       "      <td>10</td>\n",
       "      <td>29</td>\n",
       "      <td>0</td>\n",
       "    </tr>\n",
       "  </tbody>\n",
       "</table>\n",
       "</div>"
      ],
      "text/plain": [
       "   OriginLatitude  OriginLongitude  Month Carrier  DepDel15  DayofMonth  \\\n",
       "0       41.979444         -87.9075      3      UA         0           9   \n",
       "1       41.979444         -87.9075      3      UA         0          30   \n",
       "2       41.979444         -87.9075      3      UA         1          30   \n",
       "3       41.979444         -87.9075      3      UA         1           5   \n",
       "4       41.979444         -87.9075      3      UA         0          23   \n",
       "\n",
       "   DayOfWeek  CRSDepHour  DestinationLatitude  DestinationLongitude  \\\n",
       "0          3           9                36.08           -115.152222   \n",
       "1          3          18                36.08           -115.152222   \n",
       "2          3          20                36.08           -115.152222   \n",
       "3          6          15                36.08           -115.152222   \n",
       "4          3          12                36.08           -115.152222   \n",
       "\n",
       "   WindSpeed  SeaLevelPressure  HourlyPrecip  \n",
       "0          5                30             0  \n",
       "1          5                29             0  \n",
       "2          6                29             0  \n",
       "3         10                29             0  \n",
       "4         10                29             0  "
      ]
     },
     "execution_count": 11,
     "metadata": {},
     "output_type": "execute_result"
    }
   ],
   "source": [
    "train_cols = [\"OriginLatitude\",\"OriginLongitude\",\"Month\",\"Carrier\",\"DepDel15\",\"DayofMonth\",\"DayOfWeek\",\"CRSDepHour\",\n",
    "              \"DestinationLatitude\",\"DestinationLongitude\",\"WindSpeed\",\"SeaLevelPressure\",\"HourlyPrecip\"]\n",
    "ml_df = new_df[train_cols]\n",
    "ml_df.head()"
   ]
  },
  {
   "cell_type": "code",
   "execution_count": 12,
   "id": "ef72017e-02ec-4cf7-b036-6d64f83bbb03",
   "metadata": {},
   "outputs": [
    {
     "name": "stdout",
     "output_type": "stream",
     "text": [
      "<class 'pandas.core.frame.DataFrame'>\n",
      "Int64Index: 120467 entries, 0 to 120466\n",
      "Data columns (total 13 columns):\n",
      " #   Column                Non-Null Count   Dtype  \n",
      "---  ------                --------------   -----  \n",
      " 0   OriginLatitude        120467 non-null  float64\n",
      " 1   OriginLongitude       120467 non-null  float64\n",
      " 2   Month                 120467 non-null  int64  \n",
      " 3   Carrier               120467 non-null  object \n",
      " 4   DepDel15              120467 non-null  int64  \n",
      " 5   DayofMonth            120467 non-null  int64  \n",
      " 6   DayOfWeek             120467 non-null  int64  \n",
      " 7   CRSDepHour            120467 non-null  int64  \n",
      " 8   DestinationLatitude   120467 non-null  float64\n",
      " 9   DestinationLongitude  120467 non-null  float64\n",
      " 10  WindSpeed             120467 non-null  int64  \n",
      " 11  SeaLevelPressure      120467 non-null  int64  \n",
      " 12  HourlyPrecip          120467 non-null  int64  \n",
      "dtypes: float64(4), int64(8), object(1)\n",
      "memory usage: 12.9+ MB\n"
     ]
    }
   ],
   "source": [
    "ml_df.info()"
   ]
  },
  {
   "cell_type": "code",
   "execution_count": 13,
   "id": "76ec014b-ba87-43b0-a948-3eb29490b188",
   "metadata": {},
   "outputs": [
    {
     "data": {
      "text/plain": [
       "OriginLatitude          0\n",
       "OriginLongitude         0\n",
       "Month                   0\n",
       "Carrier                 0\n",
       "DepDel15                0\n",
       "DayofMonth              0\n",
       "DayOfWeek               0\n",
       "CRSDepHour              0\n",
       "DestinationLatitude     0\n",
       "DestinationLongitude    0\n",
       "WindSpeed               0\n",
       "SeaLevelPressure        0\n",
       "HourlyPrecip            0\n",
       "dtype: int64"
      ]
     },
     "execution_count": 13,
     "metadata": {},
     "output_type": "execute_result"
    }
   ],
   "source": [
    "ml_df.isnull().sum()"
   ]
  },
  {
   "cell_type": "markdown",
   "id": "ac035147-cc8c-45e1-961e-2da5a6856e27",
   "metadata": {},
   "source": [
    "# Split Train & Test Dataset"
   ]
  },
  {
   "cell_type": "code",
   "execution_count": 27,
   "id": "8ec18994-b980-4beb-aa11-51c2e7dd36ca",
   "metadata": {},
   "outputs": [],
   "source": [
    "X = ml_df.copy()\n",
    "X = X.drop(['DepDel15'], axis=1)\n",
    "y = ml_df[\"DepDel15\"]"
   ]
  },
  {
   "cell_type": "code",
   "execution_count": 28,
   "id": "608045e5-3179-4787-9f18-e926cfcee93b",
   "metadata": {},
   "outputs": [],
   "source": [
    "from sklearn.model_selection import train_test_split\n",
    "X_train, X_test, y_train, y_test = train_test_split(X, y, test_size=0.25, random_state=42)"
   ]
  },
  {
   "cell_type": "markdown",
   "id": "d54f5128-69c2-455e-a00a-f77121ecfc78",
   "metadata": {},
   "source": [
    "# Unpacking the existing ML Model PKL File"
   ]
  },
  {
   "cell_type": "code",
   "execution_count": 16,
   "id": "01df5581-69b1-4452-97a9-f590853cfb79",
   "metadata": {},
   "outputs": [],
   "source": [
    "import gzip\n",
    "import pickle\n",
    "import joblib\n",
    "\n",
    "# load the model from disk\n",
    "filename = 'model.pkl'\n",
    "rfc_model = pickle.load(open(filename, 'rb'))"
   ]
  },
  {
   "cell_type": "code",
   "execution_count": 17,
   "id": "211ef9a5-c6ef-44dd-a14e-e1b1eb8f8765",
   "metadata": {},
   "outputs": [
    {
     "data": {
      "text/plain": [
       "RandomForestClassifier(min_samples_leaf=2, n_estimators=200)"
      ]
     },
     "execution_count": 17,
     "metadata": {},
     "output_type": "execute_result"
    }
   ],
   "source": [
    "rfc_model"
   ]
  },
  {
   "cell_type": "markdown",
   "id": "7434c9e1-a004-4ae3-8982-d592f38f462f",
   "metadata": {},
   "source": [
    "# Building Model Pipeline"
   ]
  },
  {
   "cell_type": "code",
   "execution_count": 18,
   "id": "3a1b1352-0049-4cd8-9f53-67350eb4b0b4",
   "metadata": {},
   "outputs": [],
   "source": [
    "from sklearn.pipeline import Pipeline\n",
    "from sklearn.preprocessing import Normalizer, StandardScaler, MinMaxScaler, PowerTransformer, MaxAbsScaler, LabelEncoder\n",
    "from sklearn.decomposition import PCA\n",
    "from sklearn.preprocessing import StandardScaler, OrdinalEncoder\n",
    "from sklearn.impute import SimpleImputer\n",
    "from sklearn.compose import ColumnTransformer\n",
    "from sklearn.pipeline import Pipeline"
   ]
  },
  {
   "cell_type": "code",
   "execution_count": 19,
   "id": "313e427b-7e09-4200-92b9-9b69209ca80d",
   "metadata": {},
   "outputs": [],
   "source": [
    "numeric_transformer = Pipeline(steps=[('imputer', SimpleImputer(strategy='mean')),('scaler', StandardScaler())])\n",
    "categorical_transformer = Pipeline(steps=[('imputer', SimpleImputer(strategy='constant')),('encoder', OrdinalEncoder())])\n",
    "\n",
    "numeric_features = ml_df.select_dtypes(include=['int64', 'float64']).drop(['DepDel15'], axis=1).columns\n",
    "categorical_features = ml_df.select_dtypes(include=['object']).columns\n",
    "\n",
    "#numeric_features = ['OriginLatitude','OriginLongitude','Month','DepDel15','DayofMonth','DayOfWeek','CRSDepHour','DestinationLatitude','DestinationLongitude','WindSpeed','SeaLevelPressure','HourlyPrecip']\n",
    "#categorical_features = ['Carrier']\n",
    "preprocessor = ColumnTransformer(\n",
    "   transformers=[\n",
    "    ('numeric', numeric_transformer, numeric_features),\n",
    "    ('categorical', categorical_transformer, categorical_features)\n",
    "]) "
   ]
  },
  {
   "cell_type": "code",
   "execution_count": 20,
   "id": "c201f3e1-1c27-4339-a0e6-5169b2acc157",
   "metadata": {},
   "outputs": [],
   "source": [
    "pipe = Pipeline([('preprocessor', preprocessor),('rfc_model', rfc_model)])"
   ]
  },
  {
   "cell_type": "code",
   "execution_count": 21,
   "id": "d95e0ccf-6289-4a68-b9a5-600a9079fa18",
   "metadata": {},
   "outputs": [],
   "source": [
    "# training the pipe\n",
    "rfc = pipe.fit(X_train, y_train)"
   ]
  },
  {
   "cell_type": "markdown",
   "id": "adbefd97-3046-4ee2-af49-e32cb087625e",
   "metadata": {},
   "source": [
    "# Prediction & Evaluation of Pipeline"
   ]
  },
  {
   "cell_type": "code",
   "execution_count": 22,
   "id": "0c51ddc0-5633-4bfa-a003-d7b5d33cb277",
   "metadata": {
    "tags": []
   },
   "outputs": [],
   "source": [
    "y_pred = rfc.predict(X_test)"
   ]
  },
  {
   "cell_type": "code",
   "execution_count": 24,
   "id": "1c541327-8b80-4709-bd54-278b80a1f30e",
   "metadata": {},
   "outputs": [
    {
     "data": {
      "text/html": [
       "<div>\n",
       "<style scoped>\n",
       "    .dataframe tbody tr th:only-of-type {\n",
       "        vertical-align: middle;\n",
       "    }\n",
       "\n",
       "    .dataframe tbody tr th {\n",
       "        vertical-align: top;\n",
       "    }\n",
       "\n",
       "    .dataframe thead th {\n",
       "        text-align: right;\n",
       "    }\n",
       "</style>\n",
       "<table border=\"1\" class=\"dataframe\">\n",
       "  <thead>\n",
       "    <tr style=\"text-align: right;\">\n",
       "      <th></th>\n",
       "      <th>Predicted Delay</th>\n",
       "      <th>Actual Delay</th>\n",
       "    </tr>\n",
       "  </thead>\n",
       "  <tbody>\n",
       "    <tr>\n",
       "      <th>46124</th>\n",
       "      <td>0</td>\n",
       "      <td>1</td>\n",
       "    </tr>\n",
       "    <tr>\n",
       "      <th>16301</th>\n",
       "      <td>0</td>\n",
       "      <td>0</td>\n",
       "    </tr>\n",
       "    <tr>\n",
       "      <th>72186</th>\n",
       "      <td>0</td>\n",
       "      <td>0</td>\n",
       "    </tr>\n",
       "    <tr>\n",
       "      <th>103610</th>\n",
       "      <td>1</td>\n",
       "      <td>1</td>\n",
       "    </tr>\n",
       "    <tr>\n",
       "      <th>19858</th>\n",
       "      <td>0</td>\n",
       "      <td>0</td>\n",
       "    </tr>\n",
       "    <tr>\n",
       "      <th>...</th>\n",
       "      <td>...</td>\n",
       "      <td>...</td>\n",
       "    </tr>\n",
       "    <tr>\n",
       "      <th>35908</th>\n",
       "      <td>0</td>\n",
       "      <td>0</td>\n",
       "    </tr>\n",
       "    <tr>\n",
       "      <th>43230</th>\n",
       "      <td>0</td>\n",
       "      <td>0</td>\n",
       "    </tr>\n",
       "    <tr>\n",
       "      <th>48433</th>\n",
       "      <td>0</td>\n",
       "      <td>0</td>\n",
       "    </tr>\n",
       "    <tr>\n",
       "      <th>82513</th>\n",
       "      <td>0</td>\n",
       "      <td>0</td>\n",
       "    </tr>\n",
       "    <tr>\n",
       "      <th>62067</th>\n",
       "      <td>0</td>\n",
       "      <td>0</td>\n",
       "    </tr>\n",
       "  </tbody>\n",
       "</table>\n",
       "<p>30117 rows × 2 columns</p>\n",
       "</div>"
      ],
      "text/plain": [
       "        Predicted Delay  Actual Delay\n",
       "46124                 0             1\n",
       "16301                 0             0\n",
       "72186                 0             0\n",
       "103610                1             1\n",
       "19858                 0             0\n",
       "...                 ...           ...\n",
       "35908                 0             0\n",
       "43230                 0             0\n",
       "48433                 0             0\n",
       "82513                 0             0\n",
       "62067                 0             0\n",
       "\n",
       "[30117 rows x 2 columns]"
      ]
     },
     "execution_count": 24,
     "metadata": {},
     "output_type": "execute_result"
    }
   ],
   "source": [
    "#Comparing the predicted values and actual values\n",
    "df = pd.DataFrame(data={'Predicted Delay':y_pred,'Actual Delay':y_test})\n",
    "df"
   ]
  },
  {
   "cell_type": "code",
   "execution_count": 25,
   "id": "a918cc27-944a-43e7-9ee0-7d1288d92e2b",
   "metadata": {},
   "outputs": [
    {
     "name": "stdout",
     "output_type": "stream",
     "text": [
      "ROC AUC Score (ROC_AUC) : 0.765\n",
      "Model accuracy Score:  0.8598798021051234\n"
     ]
    },
    {
     "data": {
      "image/png": "[encoded data removed]",
      "text/plain": [
       "<Figure size 432x288 with 2 Axes>"
      ]
     },
     "metadata": {
      "needs_background": "light"
     },
     "output_type": "display_data"
    }
   ],
   "source": [
    "from sklearn.metrics import mean_squared_error, r2_score, mean_absolute_error, roc_curve, roc_auc_score, confusion_matrix\n",
    "rf_forest_prob = rfc.predict_proba(X_test)\n",
    "rf_forest_prob = rf_forest_prob[:,1]\n",
    "print('ROC AUC Score (ROC_AUC) : %.3f'% roc_auc_score(y_test, rf_forest_prob))\n",
    "\n",
    "print('Model accuracy Score: ', pipe.score(X_test, y_test))\n",
    "\n",
    "conf_matrix = confusion_matrix(y_true=y_test, y_pred=y_pred)\n",
    "ax = sns.heatmap(conf_matrix/np.sum(conf_matrix), annot=True, fmt='.2%', cmap='Blues')\n",
    "ax.set_title('Seaborn Confusion Matrix with labels\\n\\n');\n",
    "ax.set_xlabel('Predicted Delay')\n",
    "ax.set_ylabel('Actual Delay');\n",
    "ax.xaxis.set_ticklabels(['No','Yes'])\n",
    "ax.yaxis.set_ticklabels(['No','Yes'])\n",
    "plt.show()"
   ]
  },
  {
   "cell_type": "code",
   "execution_count": 26,
   "id": "4a62d6d1-3371-469c-af0c-8b66a3969ea3",
   "metadata": {},
   "outputs": [
    {
     "data": {
      "image/png": "[encoded data removed]",
      "text/plain": [
       "<Figure size 720x720 with 1 Axes>"
      ]
     },
     "metadata": {
      "needs_background": "light"
     },
     "output_type": "display_data"
    }
   ],
   "source": [
    "# calculating the ROC Curve\n",
    "rfc_fpr, rfc_tpr, _ = roc_curve(y_test, rf_forest_prob)\n",
    "plt.figure(figsize=(10,10))\n",
    "plt.plot(rfc_fpr, rfc_tpr, linestyle='--', label='RandomForestClassifier' % roc_auc_score(y_test, rf_forest_prob))\n",
    "plt.title('ROC Plot')\n",
    "plt.xlabel('False Positive Rate')\n",
    "plt.ylabel('True Positive Rate')\n",
    "plt.show()"
   ]
  }
 ],
 "metadata": {
  "environment": {
   "kernel": "python3",
   "name": "common-cpu.m91",
   "type": "gcloud",
   "uri": "gcr.io/deeplearning-platform-release/base-cpu:m91"
  },
  "kernelspec": {
   "display_name": "Python 3",
   "language": "python",
   "name": "python3"
  },
  "language_info": {
   "codemirror_mode": {
    "name": "ipython",
    "version": 3
   },
   "file_extension": ".py",
   "mimetype": "text/x-python",
   "name": "python",
   "nbconvert_exporter": "python",
   "pygments_lexer": "ipython3",
   "version": "3.7.12"
  }
 },
 "nbformat": 4,
 "nbformat_minor": 5
}
